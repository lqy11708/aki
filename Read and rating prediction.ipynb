{
 "cells": [
  {
   "cell_type": "code",
   "execution_count": 234,
   "metadata": {},
   "outputs": [],
   "source": [
    "import gzip\n",
    "import pandas as pd\n",
    "import numpy as np\n",
    "import copy\n",
    "from random import choice\n",
    "import matplotlib.pyplot as plt \n",
    "from sklearn.linear_model import LogisticRegression\n",
    "from collections import defaultdict\n",
    "from sklearn.model_selection import train_test_split\n",
    "import scipy\n",
    "import scipy.optimize\n",
    "\n",
    "def readGz(path):\n",
    "  for l in gzip.open(path, 'rt'):\n",
    "    yield eval(l)\n",
    "\n",
    "def readCSV(path):\n",
    "  f = gzip.open(path, 'rt')\n",
    "  f.readline()\n",
    "  for l in f:\n",
    "    yield l.strip().split(',')"
   ]
  },
  {
   "cell_type": "code",
   "execution_count": 235,
   "metadata": {},
   "outputs": [],
   "source": [
    "data= pd.read_csv('assignment1/train_Interactions.csv')"
   ]
  },
  {
   "cell_type": "code",
   "execution_count": 236,
   "metadata": {},
   "outputs": [],
   "source": [
    "traindata=data[:190000]\n",
    "validata=data[190000:]"
   ]
  },
  {
   "cell_type": "code",
   "execution_count": 237,
   "metadata": {},
   "outputs": [],
   "source": [
    "valibook=list(data['bookID'])\n",
    "valiread=validata.iloc[:,:2] \n",
    "valiread['Read']=1"
   ]
  },
  {
   "cell_type": "code",
   "execution_count": 6,
   "metadata": {},
   "outputs": [],
   "source": [
    "# Q1  get the random unread book of a user:\n",
    "\n",
    "def unreadbook(user, readbook, books):\n",
    "    unreadbook = books - readbook[user]\n",
    "    return np.random.choice(list(unreadbook))\n",
    "\n",
    "books=set(data.bookID)\n",
    "readbook=data.groupby(\"userID\").apply(lambda x:set(x.bookID))\n",
    "unread=validata.userID.map(lambda x:unreadbook(x,readbook,books))\n",
    "\n"
   ]
  },
  {
   "cell_type": "code",
   "execution_count": 7,
   "metadata": {},
   "outputs": [
    {
     "data": {
      "text/html": [
       "<div>\n",
       "<style scoped>\n",
       "    .dataframe tbody tr th:only-of-type {\n",
       "        vertical-align: middle;\n",
       "    }\n",
       "\n",
       "    .dataframe tbody tr th {\n",
       "        vertical-align: top;\n",
       "    }\n",
       "\n",
       "    .dataframe thead th {\n",
       "        text-align: right;\n",
       "    }\n",
       "</style>\n",
       "<table border=\"1\" class=\"dataframe\">\n",
       "  <thead>\n",
       "    <tr style=\"text-align: right;\">\n",
       "      <th></th>\n",
       "      <th>userID</th>\n",
       "      <th>bookID</th>\n",
       "      <th>Read</th>\n",
       "    </tr>\n",
       "  </thead>\n",
       "  <tbody>\n",
       "    <tr>\n",
       "      <td>0</td>\n",
       "      <td>u35176258</td>\n",
       "      <td>b30592470</td>\n",
       "      <td>1</td>\n",
       "    </tr>\n",
       "    <tr>\n",
       "      <td>1</td>\n",
       "      <td>u30851063</td>\n",
       "      <td>b81941226</td>\n",
       "      <td>1</td>\n",
       "    </tr>\n",
       "    <tr>\n",
       "      <td>2</td>\n",
       "      <td>u31368414</td>\n",
       "      <td>b40097012</td>\n",
       "      <td>1</td>\n",
       "    </tr>\n",
       "    <tr>\n",
       "      <td>3</td>\n",
       "      <td>u71352502</td>\n",
       "      <td>b25118404</td>\n",
       "      <td>1</td>\n",
       "    </tr>\n",
       "    <tr>\n",
       "      <td>4</td>\n",
       "      <td>u46986025</td>\n",
       "      <td>b89866434</td>\n",
       "      <td>1</td>\n",
       "    </tr>\n",
       "    <tr>\n",
       "      <td>...</td>\n",
       "      <td>...</td>\n",
       "      <td>...</td>\n",
       "      <td>...</td>\n",
       "    </tr>\n",
       "    <tr>\n",
       "      <td>19995</td>\n",
       "      <td>u18970904</td>\n",
       "      <td>b43186214</td>\n",
       "      <td>0</td>\n",
       "    </tr>\n",
       "    <tr>\n",
       "      <td>19996</td>\n",
       "      <td>u88965610</td>\n",
       "      <td>b37165101</td>\n",
       "      <td>0</td>\n",
       "    </tr>\n",
       "    <tr>\n",
       "      <td>19997</td>\n",
       "      <td>u39575746</td>\n",
       "      <td>b40304083</td>\n",
       "      <td>0</td>\n",
       "    </tr>\n",
       "    <tr>\n",
       "      <td>19998</td>\n",
       "      <td>u57361956</td>\n",
       "      <td>b13841563</td>\n",
       "      <td>0</td>\n",
       "    </tr>\n",
       "    <tr>\n",
       "      <td>19999</td>\n",
       "      <td>u93625722</td>\n",
       "      <td>b13620899</td>\n",
       "      <td>0</td>\n",
       "    </tr>\n",
       "  </tbody>\n",
       "</table>\n",
       "<p>20000 rows × 3 columns</p>\n",
       "</div>"
      ],
      "text/plain": [
       "          userID     bookID  Read\n",
       "0      u35176258  b30592470     1\n",
       "1      u30851063  b81941226     1\n",
       "2      u31368414  b40097012     1\n",
       "3      u71352502  b25118404     1\n",
       "4      u46986025  b89866434     1\n",
       "...          ...        ...   ...\n",
       "19995  u18970904  b43186214     0\n",
       "19996  u88965610  b37165101     0\n",
       "19997  u39575746  b40304083     0\n",
       "19998  u57361956  b13841563     0\n",
       "19999  u93625722  b13620899     0\n",
       "\n",
       "[20000 rows x 3 columns]"
      ]
     },
     "execution_count": 7,
     "metadata": {},
     "output_type": "execute_result"
    }
   ],
   "source": [
    "unreadvali=pd.DataFrame({'userID':list(validata['userID']),'bookID':list(unread),'Read':0},index=range(10000))\n",
    "valinew= pd.concat([valiread, unreadvali], axis=0).reset_index(drop=True)\n",
    "valinew"
   ]
  },
  {
   "cell_type": "code",
   "execution_count": 8,
   "metadata": {},
   "outputs": [],
   "source": [
    "### Would-read baseline: \n",
    "### just rank which books are popular and which are not, and return '1' if a book is among the top-ranked"
   ]
  },
  {
   "cell_type": "code",
   "execution_count": 9,
   "metadata": {},
   "outputs": [],
   "source": [
    "trainbook=traindata.iloc[:,:2].groupby('bookID').count()\n",
    "trainbook.sort_values(\"userID\",inplace=True,ascending=False)\n",
    "trainbook=trainbook.reset_index()\n",
    "temp=np.array(trainbook).tolist()\n"
   ]
  },
  {
   "cell_type": "code",
   "execution_count": 10,
   "metadata": {},
   "outputs": [],
   "source": [
    "return1 = set()\n",
    "count = 0\n",
    "for ic, i in temp:\n",
    "  count += i\n",
    "  return1.add(ic)\n",
    "  if count > len(traindata)/2: break"
   ]
  },
  {
   "cell_type": "code",
   "execution_count": 11,
   "metadata": {},
   "outputs": [],
   "source": [
    "predictions=valinew.bookID.map(lambda x:x in return1)"
   ]
  },
  {
   "cell_type": "code",
   "execution_count": 12,
   "metadata": {},
   "outputs": [
    {
     "data": {
      "text/plain": [
       "0.6461"
      ]
     },
     "execution_count": 12,
     "metadata": {},
     "output_type": "execute_result"
    }
   ],
   "source": [
    "sum(predictions==valinew['Read'])/20000"
   ]
  },
  {
   "cell_type": "code",
   "execution_count": 13,
   "metadata": {},
   "outputs": [],
   "source": [
    "# the accuracy of the baseline model on validation set is 0.6431"
   ]
  },
  {
   "cell_type": "code",
   "execution_count": 14,
   "metadata": {},
   "outputs": [],
   "source": [
    "# Q2 threshold"
   ]
  },
  {
   "cell_type": "code",
   "execution_count": 15,
   "metadata": {},
   "outputs": [],
   "source": [
    "def threshold(n):\n",
    "    returnlist1 = set()\n",
    "    count = 0\n",
    "    for ic, i in temp:\n",
    "        count += i\n",
    "        returnlist1.add(ic)\n",
    "        if count > len(traindata)/n: break\n",
    "    return returnlist1"
   ]
  },
  {
   "cell_type": "code",
   "execution_count": 16,
   "metadata": {},
   "outputs": [],
   "source": [
    "return1list=[]\n",
    "for n in np.arange(1.25,2,0.05):\n",
    "    return1list.append(threshold(n))"
   ]
  },
  {
   "cell_type": "code",
   "execution_count": 17,
   "metadata": {},
   "outputs": [],
   "source": [
    "predictions=[]\n",
    "result=[]\n",
    "for j in range(len(np.arange(1.25,2,0.05))):\n",
    "    pre=list(valinew.bookID.map(lambda x:x in return1list[j]))\n",
    "    predictions.append(pre)\n",
    "    r=sum(predictions[j]==valinew['Read'])/20000\n",
    "    result.append(r)\n"
   ]
  },
  {
   "cell_type": "code",
   "execution_count": 18,
   "metadata": {},
   "outputs": [
    {
     "data": {
      "text/plain": [
       "[0.6238,\n",
       " 0.6308,\n",
       " 0.63645,\n",
       " 0.64065,\n",
       " 0.64495,\n",
       " 0.64785,\n",
       " 0.65105,\n",
       " 0.65105,\n",
       " 0.65095,\n",
       " 0.6519,\n",
       " 0.65145,\n",
       " 0.65085,\n",
       " 0.64965,\n",
       " 0.648,\n",
       " 0.64665]"
      ]
     },
     "execution_count": 18,
     "metadata": {},
     "output_type": "execute_result"
    }
   ],
   "source": [
    "result"
   ]
  },
  {
   "cell_type": "code",
   "execution_count": 19,
   "metadata": {},
   "outputs": [
    {
     "data": {
      "text/plain": [
       "[<matplotlib.lines.Line2D at 0x7fe64f87b630>]"
      ]
     },
     "execution_count": 19,
     "metadata": {},
     "output_type": "execute_result"
    },
    {
     "data": {
      "image/png": "[encoded data removed]",
      "text/plain": [
       "<Figure size 432x288 with 1 Axes>"
      ]
     },
     "metadata": {
      "needs_background": "light"
     },
     "output_type": "display_data"
    }
   ],
   "source": [
    "x=np.arange(1.25,2,0.05)\n",
    "y=result\n",
    "plt.plot(x,y)"
   ]
  },
  {
   "cell_type": "code",
   "execution_count": 20,
   "metadata": {},
   "outputs": [],
   "source": [
    "# threshold of 1.6 is the best on validation data. That is to take about 67% of the popular books to predict 1.\n",
    "# the accuracy is increased to 0.6519"
   ]
  },
  {
   "cell_type": "code",
   "execution_count": 21,
   "metadata": {},
   "outputs": [],
   "source": [
    "# Q3: Jacard Similarity"
   ]
  },
  {
   "cell_type": "code",
   "execution_count": 238,
   "metadata": {},
   "outputs": [],
   "source": [
    "# traindataset\n",
    "traindat=traindata.to_dict(orient='records')\n",
    "validat=validata.to_dict(orient='records')"
   ]
  },
  {
   "cell_type": "code",
   "execution_count": 239,
   "metadata": {},
   "outputs": [],
   "source": [
    "usersPerItem = defaultdict(set)\n",
    "itemsPerUser = defaultdict(set)\n",
    "\n",
    "for d in traindat:\n",
    "    user,item = d['userID'], d['bookID']\n",
    "    usersPerItem[item].add(user)\n",
    "    itemsPerUser[user].add(item)"
   ]
  },
  {
   "cell_type": "code",
   "execution_count": 24,
   "metadata": {},
   "outputs": [],
   "source": [
    "def Jaccard(s1, s2):\n",
    "    numer = len(s1.intersection(s2))\n",
    "    denom = len(s1.union(s2))\n",
    "    return numer / denom\n",
    "\n",
    "\n"
   ]
  },
  {
   "cell_type": "code",
   "execution_count": 25,
   "metadata": {},
   "outputs": [],
   "source": [
    "# picked a book that is read, the max Jaccard is 0.026. So this is one reference to set the benchmark of Jaccard.\n",
    "u=valinew['userID'][0]\n",
    "b=valinew['bookID'][0]\n",
    "simlist=[]\n",
    "rb=itemsPerUser[u] #the book the user read in traindat\n",
    "user_b=usersPerItem[b] #the users read the book in traindat"
   ]
  },
  {
   "cell_type": "code",
   "execution_count": 26,
   "metadata": {},
   "outputs": [],
   "source": [
    "userlist=[]\n",
    "for book in rb:\n",
    "    if book==b:continue\n",
    "    users=usersPerItem[book]\n",
    "    userlist.append(users)"
   ]
  },
  {
   "cell_type": "code",
   "execution_count": 27,
   "metadata": {},
   "outputs": [
    {
     "data": {
      "text/plain": [
       "0.02631578947368421"
      ]
     },
     "execution_count": 27,
     "metadata": {},
     "output_type": "execute_result"
    }
   ],
   "source": [
    "simlist=[]\n",
    "for i in range(len(userlist)):\n",
    "    sim=Jaccard(userlist[i],user_b)\n",
    "    simlist.append(sim)\n",
    "max(simlist)"
   ]
  },
  {
   "cell_type": "code",
   "execution_count": 28,
   "metadata": {},
   "outputs": [],
   "source": [
    "def mostSimilar(u,b,threshold): \n",
    "    simlist=[]\n",
    "    rb=itemsPerUser[u] #the book the user read in traindat\n",
    "    user_b=usersPerItem[b]\n",
    "    userlist=[]\n",
    "    for book in rb:\n",
    "        if book==b:continue\n",
    "        users=usersPerItem[book]\n",
    "        userlist.append(users)\n",
    "    for i in range(len(userlist)):\n",
    "        sim=Jaccard(userlist[i],user_b)\n",
    "        simlist.append(sim)\n",
    "    if max(simlist)>threshold:\n",
    "        prediction=1\n",
    "    else:\n",
    "        prediction=0\n",
    "    return prediction"
   ]
  },
  {
   "cell_type": "code",
   "execution_count": 30,
   "metadata": {},
   "outputs": [],
   "source": [
    "def threshold(p):\n",
    "    prelist=[]\n",
    "    for i in range(len(valinew)):\n",
    "        pred=mostSimilar(valinew['userID'][i],valinew['bookID'][i],p)\n",
    "        prelist.append(pred)\n",
    "    return prelist\n",
    "    "
   ]
  },
  {
   "cell_type": "code",
   "execution_count": 31,
   "metadata": {},
   "outputs": [],
   "source": [
    "predictlist=[]\n",
    "for pa in np.arange(0.001,0.03,0.002):\n",
    "    predict=threshold(pa)    \n",
    "    predictlist.append(predict)\n"
   ]
  },
  {
   "cell_type": "code",
   "execution_count": 32,
   "metadata": {},
   "outputs": [],
   "source": [
    "resultq3=[]\n",
    "for j in range(len(predictlist)):\n",
    "    res=sum(predictlist[j]==valinew['Read'])/20000\n",
    "    resultq3.append(res)\n"
   ]
  },
  {
   "cell_type": "code",
   "execution_count": 33,
   "metadata": {},
   "outputs": [
    {
     "data": {
      "text/html": [
       "<div>\n",
       "<style scoped>\n",
       "    .dataframe tbody tr th:only-of-type {\n",
       "        vertical-align: middle;\n",
       "    }\n",
       "\n",
       "    .dataframe tbody tr th {\n",
       "        vertical-align: top;\n",
       "    }\n",
       "\n",
       "    .dataframe thead th {\n",
       "        text-align: right;\n",
       "    }\n",
       "</style>\n",
       "<table border=\"1\" class=\"dataframe\">\n",
       "  <thead>\n",
       "    <tr style=\"text-align: right;\">\n",
       "      <th></th>\n",
       "      <th>threshold</th>\n",
       "      <th>accuracy</th>\n",
       "    </tr>\n",
       "  </thead>\n",
       "  <tbody>\n",
       "    <tr>\n",
       "      <td>5</td>\n",
       "      <td>0.011</td>\n",
       "      <td>0.62470</td>\n",
       "    </tr>\n",
       "    <tr>\n",
       "      <td>4</td>\n",
       "      <td>0.009</td>\n",
       "      <td>0.62120</td>\n",
       "    </tr>\n",
       "    <tr>\n",
       "      <td>6</td>\n",
       "      <td>0.013</td>\n",
       "      <td>0.62010</td>\n",
       "    </tr>\n",
       "    <tr>\n",
       "      <td>7</td>\n",
       "      <td>0.015</td>\n",
       "      <td>0.61095</td>\n",
       "    </tr>\n",
       "    <tr>\n",
       "      <td>3</td>\n",
       "      <td>0.007</td>\n",
       "      <td>0.61015</td>\n",
       "    </tr>\n",
       "    <tr>\n",
       "      <td>2</td>\n",
       "      <td>0.005</td>\n",
       "      <td>0.59910</td>\n",
       "    </tr>\n",
       "    <tr>\n",
       "      <td>8</td>\n",
       "      <td>0.017</td>\n",
       "      <td>0.59800</td>\n",
       "    </tr>\n",
       "    <tr>\n",
       "      <td>1</td>\n",
       "      <td>0.003</td>\n",
       "      <td>0.59170</td>\n",
       "    </tr>\n",
       "    <tr>\n",
       "      <td>0</td>\n",
       "      <td>0.001</td>\n",
       "      <td>0.59085</td>\n",
       "    </tr>\n",
       "    <tr>\n",
       "      <td>9</td>\n",
       "      <td>0.019</td>\n",
       "      <td>0.58335</td>\n",
       "    </tr>\n",
       "    <tr>\n",
       "      <td>10</td>\n",
       "      <td>0.021</td>\n",
       "      <td>0.57070</td>\n",
       "    </tr>\n",
       "    <tr>\n",
       "      <td>11</td>\n",
       "      <td>0.023</td>\n",
       "      <td>0.55710</td>\n",
       "    </tr>\n",
       "    <tr>\n",
       "      <td>12</td>\n",
       "      <td>0.025</td>\n",
       "      <td>0.54590</td>\n",
       "    </tr>\n",
       "    <tr>\n",
       "      <td>13</td>\n",
       "      <td>0.027</td>\n",
       "      <td>0.53820</td>\n",
       "    </tr>\n",
       "    <tr>\n",
       "      <td>14</td>\n",
       "      <td>0.029</td>\n",
       "      <td>0.52975</td>\n",
       "    </tr>\n",
       "  </tbody>\n",
       "</table>\n",
       "</div>"
      ],
      "text/plain": [
       "    threshold  accuracy\n",
       "5       0.011   0.62470\n",
       "4       0.009   0.62120\n",
       "6       0.013   0.62010\n",
       "7       0.015   0.61095\n",
       "3       0.007   0.61015\n",
       "2       0.005   0.59910\n",
       "8       0.017   0.59800\n",
       "1       0.003   0.59170\n",
       "0       0.001   0.59085\n",
       "9       0.019   0.58335\n",
       "10      0.021   0.57070\n",
       "11      0.023   0.55710\n",
       "12      0.025   0.54590\n",
       "13      0.027   0.53820\n",
       "14      0.029   0.52975"
      ]
     },
     "execution_count": 33,
     "metadata": {},
     "output_type": "execute_result"
    },
    {
     "data": {
      "image/png": "[encoded data removed]",
      "text/plain": [
       "<Figure size 432x288 with 1 Axes>"
      ]
     },
     "metadata": {
      "needs_background": "light"
     },
     "output_type": "display_data"
    }
   ],
   "source": [
    "x=np.arange(0.001,0.03,0.002)\n",
    "y=resultq3\n",
    "plt.plot(x,y)\n",
    "result3=pd.DataFrame({'threshold':x,'accuracy':y})\n",
    "result3.sort_values(by=\"accuracy\" , ascending=False) \n",
    "\n",
    "# when the threshold is 0.011, the accuracy is the best. It's 0.62"
   ]
  },
  {
   "cell_type": "code",
   "execution_count": 34,
   "metadata": {},
   "outputs": [],
   "source": [
    "# Q4: Improve the above predictor by incorporating both a Jaccard-based threshold and popularity "
   ]
  },
  {
   "cell_type": "code",
   "execution_count": 35,
   "metadata": {},
   "outputs": [],
   "source": [
    "validatanew=copy.copy(valinew)"
   ]
  },
  {
   "cell_type": "code",
   "execution_count": 36,
   "metadata": {},
   "outputs": [],
   "source": [
    "def maxSimilar(u,b): \n",
    "    simlist=[]\n",
    "    rb=itemsPerUser[u] #the book the user read in traindat\n",
    "    user_b=usersPerItem[b]\n",
    "    userlist=[]\n",
    "    for book in rb:\n",
    "        if book==b:continue\n",
    "        users=usersPerItem[book]\n",
    "        userlist.append(users)\n",
    "    for i in range(len(userlist)):\n",
    "        sim=Jaccard(userlist[i],user_b)\n",
    "        simlist.append(sim)\n",
    "    return max(simlist or [0])"
   ]
  },
  {
   "cell_type": "code",
   "execution_count": 37,
   "metadata": {},
   "outputs": [],
   "source": [
    "simil=[]\n",
    "for i in range(20000):\n",
    "    rr=maxSimilar(validatanew['userID'][i],validatanew['bookID'][i])\n",
    "    simil.append(rr)"
   ]
  },
  {
   "cell_type": "code",
   "execution_count": 38,
   "metadata": {},
   "outputs": [
    {
     "data": {
      "text/html": [
       "<div>\n",
       "<style scoped>\n",
       "    .dataframe tbody tr th:only-of-type {\n",
       "        vertical-align: middle;\n",
       "    }\n",
       "\n",
       "    .dataframe tbody tr th {\n",
       "        vertical-align: top;\n",
       "    }\n",
       "\n",
       "    .dataframe thead th {\n",
       "        text-align: right;\n",
       "    }\n",
       "</style>\n",
       "<table border=\"1\" class=\"dataframe\">\n",
       "  <thead>\n",
       "    <tr style=\"text-align: right;\">\n",
       "      <th></th>\n",
       "      <th>userID</th>\n",
       "      <th>bookID</th>\n",
       "      <th>Read</th>\n",
       "      <th>similarity</th>\n",
       "    </tr>\n",
       "  </thead>\n",
       "  <tbody>\n",
       "    <tr>\n",
       "      <td>0</td>\n",
       "      <td>u35176258</td>\n",
       "      <td>b30592470</td>\n",
       "      <td>1</td>\n",
       "      <td>0.026316</td>\n",
       "    </tr>\n",
       "    <tr>\n",
       "      <td>1</td>\n",
       "      <td>u30851063</td>\n",
       "      <td>b81941226</td>\n",
       "      <td>1</td>\n",
       "      <td>0.000000</td>\n",
       "    </tr>\n",
       "    <tr>\n",
       "      <td>2</td>\n",
       "      <td>u31368414</td>\n",
       "      <td>b40097012</td>\n",
       "      <td>1</td>\n",
       "      <td>0.041667</td>\n",
       "    </tr>\n",
       "    <tr>\n",
       "      <td>3</td>\n",
       "      <td>u71352502</td>\n",
       "      <td>b25118404</td>\n",
       "      <td>1</td>\n",
       "      <td>0.018072</td>\n",
       "    </tr>\n",
       "    <tr>\n",
       "      <td>4</td>\n",
       "      <td>u46986025</td>\n",
       "      <td>b89866434</td>\n",
       "      <td>1</td>\n",
       "      <td>0.027778</td>\n",
       "    </tr>\n",
       "    <tr>\n",
       "      <td>...</td>\n",
       "      <td>...</td>\n",
       "      <td>...</td>\n",
       "      <td>...</td>\n",
       "      <td>...</td>\n",
       "    </tr>\n",
       "    <tr>\n",
       "      <td>19995</td>\n",
       "      <td>u18970904</td>\n",
       "      <td>b43186214</td>\n",
       "      <td>0</td>\n",
       "      <td>0.009804</td>\n",
       "    </tr>\n",
       "    <tr>\n",
       "      <td>19996</td>\n",
       "      <td>u88965610</td>\n",
       "      <td>b37165101</td>\n",
       "      <td>0</td>\n",
       "      <td>0.003077</td>\n",
       "    </tr>\n",
       "    <tr>\n",
       "      <td>19997</td>\n",
       "      <td>u39575746</td>\n",
       "      <td>b40304083</td>\n",
       "      <td>0</td>\n",
       "      <td>0.019231</td>\n",
       "    </tr>\n",
       "    <tr>\n",
       "      <td>19998</td>\n",
       "      <td>u57361956</td>\n",
       "      <td>b13841563</td>\n",
       "      <td>0</td>\n",
       "      <td>0.005376</td>\n",
       "    </tr>\n",
       "    <tr>\n",
       "      <td>19999</td>\n",
       "      <td>u93625722</td>\n",
       "      <td>b13620899</td>\n",
       "      <td>0</td>\n",
       "      <td>0.019608</td>\n",
       "    </tr>\n",
       "  </tbody>\n",
       "</table>\n",
       "<p>20000 rows × 4 columns</p>\n",
       "</div>"
      ],
      "text/plain": [
       "          userID     bookID  Read  similarity\n",
       "0      u35176258  b30592470     1    0.026316\n",
       "1      u30851063  b81941226     1    0.000000\n",
       "2      u31368414  b40097012     1    0.041667\n",
       "3      u71352502  b25118404     1    0.018072\n",
       "4      u46986025  b89866434     1    0.027778\n",
       "...          ...        ...   ...         ...\n",
       "19995  u18970904  b43186214     0    0.009804\n",
       "19996  u88965610  b37165101     0    0.003077\n",
       "19997  u39575746  b40304083     0    0.019231\n",
       "19998  u57361956  b13841563     0    0.005376\n",
       "19999  u93625722  b13620899     0    0.019608\n",
       "\n",
       "[20000 rows x 4 columns]"
      ]
     },
     "execution_count": 38,
     "metadata": {},
     "output_type": "execute_result"
    }
   ],
   "source": [
    "validatanew['similarity']=simil\n",
    "\n",
    "validatanew # in fact, we can only use validatanew to be the traindata and validation data."
   ]
  },
  {
   "cell_type": "code",
   "execution_count": 39,
   "metadata": {},
   "outputs": [
    {
     "data": {
      "text/html": [
       "<div>\n",
       "<style scoped>\n",
       "    .dataframe tbody tr th:only-of-type {\n",
       "        vertical-align: middle;\n",
       "    }\n",
       "\n",
       "    .dataframe tbody tr th {\n",
       "        vertical-align: top;\n",
       "    }\n",
       "\n",
       "    .dataframe thead th {\n",
       "        text-align: right;\n",
       "    }\n",
       "</style>\n",
       "<table border=\"1\" class=\"dataframe\">\n",
       "  <thead>\n",
       "    <tr style=\"text-align: right;\">\n",
       "      <th></th>\n",
       "      <th>bookID</th>\n",
       "      <th>readtimes</th>\n",
       "      <th>readprop</th>\n",
       "    </tr>\n",
       "  </thead>\n",
       "  <tbody>\n",
       "    <tr>\n",
       "      <td>0</td>\n",
       "      <td>b25543219</td>\n",
       "      <td>381</td>\n",
       "      <td>0.079322</td>\n",
       "    </tr>\n",
       "    <tr>\n",
       "      <td>1</td>\n",
       "      <td>b76915592</td>\n",
       "      <td>319</td>\n",
       "      <td>0.066414</td>\n",
       "    </tr>\n",
       "    <tr>\n",
       "      <td>2</td>\n",
       "      <td>b21517939</td>\n",
       "      <td>313</td>\n",
       "      <td>0.065164</td>\n",
       "    </tr>\n",
       "    <tr>\n",
       "      <td>3</td>\n",
       "      <td>b75885962</td>\n",
       "      <td>273</td>\n",
       "      <td>0.056837</td>\n",
       "    </tr>\n",
       "    <tr>\n",
       "      <td>4</td>\n",
       "      <td>b55315814</td>\n",
       "      <td>271</td>\n",
       "      <td>0.056420</td>\n",
       "    </tr>\n",
       "    <tr>\n",
       "      <td>...</td>\n",
       "      <td>...</td>\n",
       "      <td>...</td>\n",
       "      <td>...</td>\n",
       "    </tr>\n",
       "    <tr>\n",
       "      <td>7164</td>\n",
       "      <td>b87471097</td>\n",
       "      <td>2</td>\n",
       "      <td>0.000416</td>\n",
       "    </tr>\n",
       "    <tr>\n",
       "      <td>7165</td>\n",
       "      <td>b26840730</td>\n",
       "      <td>2</td>\n",
       "      <td>0.000416</td>\n",
       "    </tr>\n",
       "    <tr>\n",
       "      <td>7166</td>\n",
       "      <td>b56184761</td>\n",
       "      <td>2</td>\n",
       "      <td>0.000416</td>\n",
       "    </tr>\n",
       "    <tr>\n",
       "      <td>7167</td>\n",
       "      <td>b66747010</td>\n",
       "      <td>2</td>\n",
       "      <td>0.000416</td>\n",
       "    </tr>\n",
       "    <tr>\n",
       "      <td>7168</td>\n",
       "      <td>b98882615</td>\n",
       "      <td>1</td>\n",
       "      <td>0.000208</td>\n",
       "    </tr>\n",
       "  </tbody>\n",
       "</table>\n",
       "<p>7169 rows × 3 columns</p>\n",
       "</div>"
      ],
      "text/plain": [
       "         bookID  readtimes  readprop\n",
       "0     b25543219        381  0.079322\n",
       "1     b76915592        319  0.066414\n",
       "2     b21517939        313  0.065164\n",
       "3     b75885962        273  0.056837\n",
       "4     b55315814        271  0.056420\n",
       "...         ...        ...       ...\n",
       "7164  b87471097          2  0.000416\n",
       "7165  b26840730          2  0.000416\n",
       "7166  b56184761          2  0.000416\n",
       "7167  b66747010          2  0.000416\n",
       "7168  b98882615          1  0.000208\n",
       "\n",
       "[7169 rows x 3 columns]"
      ]
     },
     "execution_count": 39,
     "metadata": {},
     "output_type": "execute_result"
    }
   ],
   "source": [
    "# book in the original split train dataset\n",
    "trainbook=trainbook.rename(columns={'userID':'readtimes'})\n",
    "trainbook['readprop']=trainbook['readtimes']/(0.67*len(trainbook))  # total of 7169 books, I calculate the book's read time proportion in the top 55% books.\n",
    "#trainbook['logprop']=np.log(trainbook['readprop'])\n",
    "trainbook"
   ]
  },
  {
   "cell_type": "code",
   "execution_count": 40,
   "metadata": {},
   "outputs": [],
   "source": [
    "validatanew1=pd.merge(validatanew,trainbook,on='bookID',how='left')\n",
    "validatanew1['constant']=1"
   ]
  },
  {
   "cell_type": "code",
   "execution_count": 41,
   "metadata": {},
   "outputs": [
    {
     "data": {
      "text/html": [
       "<div>\n",
       "<style scoped>\n",
       "    .dataframe tbody tr th:only-of-type {\n",
       "        vertical-align: middle;\n",
       "    }\n",
       "\n",
       "    .dataframe tbody tr th {\n",
       "        vertical-align: top;\n",
       "    }\n",
       "\n",
       "    .dataframe thead th {\n",
       "        text-align: right;\n",
       "    }\n",
       "</style>\n",
       "<table border=\"1\" class=\"dataframe\">\n",
       "  <thead>\n",
       "    <tr style=\"text-align: right;\">\n",
       "      <th></th>\n",
       "      <th>userID</th>\n",
       "      <th>bookID</th>\n",
       "      <th>Read</th>\n",
       "      <th>similarity</th>\n",
       "      <th>readtimes</th>\n",
       "      <th>readprop</th>\n",
       "      <th>constant</th>\n",
       "    </tr>\n",
       "  </thead>\n",
       "  <tbody>\n",
       "    <tr>\n",
       "      <td>9275</td>\n",
       "      <td>u93540030</td>\n",
       "      <td>b20401770</td>\n",
       "      <td>1</td>\n",
       "      <td>0.019048</td>\n",
       "      <td>82.0</td>\n",
       "      <td>0.017072</td>\n",
       "      <td>1</td>\n",
       "    </tr>\n",
       "    <tr>\n",
       "      <td>9900</td>\n",
       "      <td>u23903007</td>\n",
       "      <td>b47234122</td>\n",
       "      <td>1</td>\n",
       "      <td>0.016949</td>\n",
       "      <td>31.0</td>\n",
       "      <td>0.006454</td>\n",
       "      <td>1</td>\n",
       "    </tr>\n",
       "    <tr>\n",
       "      <td>13515</td>\n",
       "      <td>u44308400</td>\n",
       "      <td>b79918152</td>\n",
       "      <td>0</td>\n",
       "      <td>0.013889</td>\n",
       "      <td>25.0</td>\n",
       "      <td>0.005205</td>\n",
       "      <td>1</td>\n",
       "    </tr>\n",
       "    <tr>\n",
       "      <td>2486</td>\n",
       "      <td>u90512832</td>\n",
       "      <td>b63466729</td>\n",
       "      <td>1</td>\n",
       "      <td>0.004902</td>\n",
       "      <td>43.0</td>\n",
       "      <td>0.008952</td>\n",
       "      <td>1</td>\n",
       "    </tr>\n",
       "    <tr>\n",
       "      <td>8506</td>\n",
       "      <td>u45761706</td>\n",
       "      <td>b03945041</td>\n",
       "      <td>1</td>\n",
       "      <td>0.011299</td>\n",
       "      <td>79.0</td>\n",
       "      <td>0.016447</td>\n",
       "      <td>1</td>\n",
       "    </tr>\n",
       "    <tr>\n",
       "      <td>...</td>\n",
       "      <td>...</td>\n",
       "      <td>...</td>\n",
       "      <td>...</td>\n",
       "      <td>...</td>\n",
       "      <td>...</td>\n",
       "      <td>...</td>\n",
       "      <td>...</td>\n",
       "    </tr>\n",
       "    <tr>\n",
       "      <td>6587</td>\n",
       "      <td>u73867232</td>\n",
       "      <td>b73887821</td>\n",
       "      <td>1</td>\n",
       "      <td>0.027397</td>\n",
       "      <td>9.0</td>\n",
       "      <td>0.001874</td>\n",
       "      <td>1</td>\n",
       "    </tr>\n",
       "    <tr>\n",
       "      <td>2609</td>\n",
       "      <td>u59799142</td>\n",
       "      <td>b26668190</td>\n",
       "      <td>1</td>\n",
       "      <td>0.034483</td>\n",
       "      <td>18.0</td>\n",
       "      <td>0.003747</td>\n",
       "      <td>1</td>\n",
       "    </tr>\n",
       "    <tr>\n",
       "      <td>12883</td>\n",
       "      <td>u98056115</td>\n",
       "      <td>b28308114</td>\n",
       "      <td>0</td>\n",
       "      <td>0.027778</td>\n",
       "      <td>33.0</td>\n",
       "      <td>0.006870</td>\n",
       "      <td>1</td>\n",
       "    </tr>\n",
       "    <tr>\n",
       "      <td>2506</td>\n",
       "      <td>u33029151</td>\n",
       "      <td>b25704142</td>\n",
       "      <td>1</td>\n",
       "      <td>0.010840</td>\n",
       "      <td>165.0</td>\n",
       "      <td>0.034352</td>\n",
       "      <td>1</td>\n",
       "    </tr>\n",
       "    <tr>\n",
       "      <td>15818</td>\n",
       "      <td>u76457563</td>\n",
       "      <td>b17374354</td>\n",
       "      <td>0</td>\n",
       "      <td>0.000000</td>\n",
       "      <td>12.0</td>\n",
       "      <td>0.002498</td>\n",
       "      <td>1</td>\n",
       "    </tr>\n",
       "  </tbody>\n",
       "</table>\n",
       "<p>20000 rows × 7 columns</p>\n",
       "</div>"
      ],
      "text/plain": [
       "          userID     bookID  Read  similarity  readtimes  readprop  constant\n",
       "9275   u93540030  b20401770     1    0.019048       82.0  0.017072         1\n",
       "9900   u23903007  b47234122     1    0.016949       31.0  0.006454         1\n",
       "13515  u44308400  b79918152     0    0.013889       25.0  0.005205         1\n",
       "2486   u90512832  b63466729     1    0.004902       43.0  0.008952         1\n",
       "8506   u45761706  b03945041     1    0.011299       79.0  0.016447         1\n",
       "...          ...        ...   ...         ...        ...       ...       ...\n",
       "6587   u73867232  b73887821     1    0.027397        9.0  0.001874         1\n",
       "2609   u59799142  b26668190     1    0.034483       18.0  0.003747         1\n",
       "12883  u98056115  b28308114     0    0.027778       33.0  0.006870         1\n",
       "2506   u33029151  b25704142     1    0.010840      165.0  0.034352         1\n",
       "15818  u76457563  b17374354     0    0.000000       12.0  0.002498         1\n",
       "\n",
       "[20000 rows x 7 columns]"
      ]
     },
     "execution_count": 41,
     "metadata": {},
     "output_type": "execute_result"
    }
   ],
   "source": [
    "validatanew1=validatanew1.sample(frac=1)\n",
    "validatanew1=validatanew1.fillna(value=0)\n",
    "validatanew1"
   ]
  },
  {
   "cell_type": "code",
   "execution_count": 42,
   "metadata": {},
   "outputs": [],
   "source": [
    "X=validatanew1.loc[:,['constant','similarity','readprop']]\n",
    "y=validatanew1.loc[:,'Read']\n",
    "\n",
    "x_train,x_test,y_train,y_test= train_test_split(X,y,test_size=0.1,shuffle=True)"
   ]
  },
  {
   "cell_type": "code",
   "execution_count": 43,
   "metadata": {},
   "outputs": [
    {
     "name": "stdout",
     "output_type": "stream",
     "text": [
      "the train accuracy is 0.6711666666666667\n"
     ]
    }
   ],
   "source": [
    "model = LogisticRegression(C=1000,solver=\"lbfgs\",class_weight='balanced',max_iter=5000)\n",
    "model.fit(x_train, y_train)\n",
    "pred=model.predict(x_train)\n",
    "pred\n",
    "accuracy=sum(pred==y_train)/len(y_train)\n",
    "print(\"the train accuracy is\", accuracy)"
   ]
  },
  {
   "cell_type": "code",
   "execution_count": 44,
   "metadata": {},
   "outputs": [
    {
     "name": "stdout",
     "output_type": "stream",
     "text": [
      "the test accuracy is 0.6775\n"
     ]
    }
   ],
   "source": [
    "pred2=model.predict(x_test)\n",
    "pred2\n",
    "accuracy=sum(pred2==y_test)/len(y_test)\n",
    "print(\"the test accuracy is\", accuracy)\n",
    "\n",
    "# I tried c=1000,the test accuracy is the highest. Then I see the accuracy on the whole validation set: It's 0.67"
   ]
  },
  {
   "cell_type": "code",
   "execution_count": 45,
   "metadata": {},
   "outputs": [
    {
     "name": "stdout",
     "output_type": "stream",
     "text": [
      "the wholevalidation accuracy is 0.6718\n"
     ]
    }
   ],
   "source": [
    "predwholevali=model.predict(X)\n",
    "accuracy=sum(predwholevali==y)/len(y)\n",
    "print(\"the wholevalidation accuracy is\", accuracy)"
   ]
  },
  {
   "cell_type": "code",
   "execution_count": 46,
   "metadata": {},
   "outputs": [],
   "source": [
    "# Q5 To run our model on the test set"
   ]
  },
  {
   "cell_type": "code",
   "execution_count": 400,
   "metadata": {},
   "outputs": [],
   "source": [
    "df=pd.read_csv(r'assignment1/pairs_Read.txt',sep='-')\n",
    "df=df.rename(columns={'bookID,prediction':'bookID'})"
   ]
  },
  {
   "cell_type": "code",
   "execution_count": 7,
   "metadata": {},
   "outputs": [],
   "source": [
    "ttdata=copy.copy(data)\n",
    "tdata=data.to_dict(orient='records')\n",
    "usersPerItem = defaultdict(set)\n",
    "itemsPerUser = defaultdict(set)"
   ]
  },
  {
   "cell_type": "code",
   "execution_count": 8,
   "metadata": {},
   "outputs": [],
   "source": [
    "for d in tdata:\n",
    "    user,item = d['userID'], d['bookID']\n",
    "    usersPerItem[item].add(user)\n",
    "    itemsPerUser[user].add(item)"
   ]
  },
  {
   "cell_type": "code",
   "execution_count": 50,
   "metadata": {},
   "outputs": [],
   "source": [
    "simil=[]\n",
    "for i in range(len(df)):\n",
    "    rr=maxSimilar(df['userID'][i],df['bookID'][i])\n",
    "    simil.append(rr)"
   ]
  },
  {
   "cell_type": "code",
   "execution_count": 51,
   "metadata": {},
   "outputs": [],
   "source": [
    "df['similarity']= simil"
   ]
  },
  {
   "cell_type": "code",
   "execution_count": null,
   "metadata": {},
   "outputs": [],
   "source": [
    "ttraindata=copy.copy(data)\n",
    "ttraindata=ttraindata.iloc[:,:2].groupby('bookID').count()\n",
    "ttraindata.sort_values(\"userID\",inplace=True,ascending=False)\n",
    "ttraindata=ttraindata.reset_index()\n",
    "ttraindata=ttraindata.rename(columns={'userID':'readtimes'})\n",
    "ttraindata['readprop']=ttraindata['readtimes']/(0.67*len(ttraindata))\n",
    "df=pd.merge(df,ttraindata,on='bookID',how='left')"
   ]
  },
  {
   "cell_type": "code",
   "execution_count": 53,
   "metadata": {},
   "outputs": [],
   "source": [
    "df['constant']=1"
   ]
  },
  {
   "cell_type": "code",
   "execution_count": 56,
   "metadata": {},
   "outputs": [
    {
     "data": {
      "text/plain": [
       "array([0, 0, 0, ..., 0, 0, 1])"
      ]
     },
     "execution_count": 56,
     "metadata": {},
     "output_type": "execute_result"
    }
   ],
   "source": [
    "x_testkaggle=df.loc[:,['constant','similarity','readprop']]\n",
    "testpred=model.predict(x_testkaggle)\n",
    "\n",
    "testpred"
   ]
  },
  {
   "cell_type": "code",
   "execution_count": null,
   "metadata": {},
   "outputs": [],
   "source": [
    "with open('pairs_Read.txt','r') as fa:\n",
    "    with open('testpred.txt','r') as fb:\n",
    "        with open('result.txt','w') as fc:\n",
    "            for line in fa:\n",
    "                fc.write(line.strip('\\n')) \n",
    "                fc.write(fb.readline())\n",
    "fc.close()"
   ]
  },
  {
   "cell_type": "code",
   "execution_count": null,
   "metadata": {},
   "outputs": [],
   "source": [
    "#KAGGLE ID : aki"
   ]
  },
  {
   "cell_type": "code",
   "execution_count": null,
   "metadata": {},
   "outputs": [],
   "source": [
    "# Tasks (Rating prediction)"
   ]
  },
  {
   "cell_type": "code",
   "execution_count": 240,
   "metadata": {},
   "outputs": [],
   "source": [
    "#Q9  fit a model rating(user, item) ' α + βuser + βitem\n",
    "traindata=data[:190000]\n",
    "validata=data[190000:].reset_index()"
   ]
  },
  {
   "cell_type": "code",
   "execution_count": 241,
   "metadata": {},
   "outputs": [],
   "source": [
    "N = len(traindat)\n",
    "nUsers = len(itemsPerUser)\n",
    "nItems = len(usersPerItem)\n",
    "users = list(itemsPerUser.keys())\n",
    "items = list(usersPerItem.keys())\n",
    "ratingPerUser = defaultdict(list)\n",
    "ratingPerItem = defaultdict(list)\n"
   ]
  },
  {
   "cell_type": "code",
   "execution_count": 242,
   "metadata": {},
   "outputs": [],
   "source": [
    "for d in traindat:\n",
    "    user,item,rating = d['userID'], d['bookID'],d['rating']\n",
    "    ratingPerUser[user].append(rating)\n",
    "    ratingPerItem[item].append(rating)"
   ]
  },
  {
   "cell_type": "code",
   "execution_count": 243,
   "metadata": {},
   "outputs": [],
   "source": [
    "#initial set:\n",
    "alpha0=0\n",
    "betau0=0\n",
    "betai0=0\n",
    "alpha1=sum(traindata['rating'])/N"
   ]
  },
  {
   "cell_type": "code",
   "execution_count": 244,
   "metadata": {},
   "outputs": [],
   "source": [
    "userBiases = defaultdict(list)\n",
    "itemBiases = defaultdict(list)"
   ]
  },
  {
   "cell_type": "code",
   "execution_count": 245,
   "metadata": {},
   "outputs": [],
   "source": [
    "for d in users:\n",
    "    ub= (sum(ratingPerUser[d])-(alpha1+betai0)*len(ratingPerUser[d])) /(1+len(itemsPerUser[d]))\n",
    "    userBiases[d].append(ub)"
   ]
  },
  {
   "cell_type": "code",
   "execution_count": 246,
   "metadata": {},
   "outputs": [],
   "source": [
    "userbiastable= pd.DataFrame.from_dict(userBiases,orient='index').reset_index().rename({0:'userbias'}, axis='columns')\n",
    "totalbiastable = pd.merge(traindata,userbiastable,left_on='userID',right_on='index',how='left')"
   ]
  },
  {
   "cell_type": "code",
   "execution_count": 247,
   "metadata": {},
   "outputs": [],
   "source": [
    "bookbiastable=totalbiastable.groupby('bookID').apply(lambda x:sum(x.userbias)).reset_index().rename({0:'bookbias'},axis='columns')"
   ]
  },
  {
   "cell_type": "code",
   "execution_count": 248,
   "metadata": {},
   "outputs": [],
   "source": [
    "bookbiasdic=bookbiastable.to_dict(orient='records')"
   ]
  },
  {
   "cell_type": "code",
   "execution_count": 249,
   "metadata": {},
   "outputs": [],
   "source": [
    "bookbias= defaultdict(list)\n",
    "for d in bookbiasdic:\n",
    "    item,book_bias =  d['bookID'],d['bookbias']\n",
    "    bookbias[item].append(book_bias)"
   ]
  },
  {
   "cell_type": "code",
   "execution_count": 388,
   "metadata": {},
   "outputs": [],
   "source": [
    "#itemBiases"
   ]
  },
  {
   "cell_type": "code",
   "execution_count": 250,
   "metadata": {},
   "outputs": [],
   "source": [
    "for d in items:\n",
    "    bookbeta= (sum(ratingPerItem[d])-(alpha1*len(ratingPerItem[d])+sum(bookbias[d]))) /(1+len(usersPerItem[d]))\n",
    "    itemBiases[d].append(bookbeta)\n",
    " "
   ]
  },
  {
   "cell_type": "code",
   "execution_count": 251,
   "metadata": {},
   "outputs": [],
   "source": [
    "itemBiasestable= pd.DataFrame.from_dict(itemBiases,orient='index').reset_index().rename({0:'itembias'}, axis='columns')"
   ]
  },
  {
   "cell_type": "code",
   "execution_count": 252,
   "metadata": {},
   "outputs": [],
   "source": [
    "itemBiasestable= pd.DataFrame.from_dict(itemBiases,orient='index').reset_index().rename({0:'itembias'}, axis='columns')\n",
    "totalbiastable2 = pd.merge(totalbiastable,itemBiasestable,left_on='bookID',right_on='index',how='left')"
   ]
  },
  {
   "cell_type": "code",
   "execution_count": 253,
   "metadata": {},
   "outputs": [],
   "source": [
    "totalbiastable2['pre']=alpha1+totalbiastable2['itembias']+ totalbiastable2['userbias']"
   ]
  },
  {
   "cell_type": "code",
   "execution_count": 254,
   "metadata": {},
   "outputs": [],
   "source": [
    "MSE1=sum((totalbiastable2['pre']-totalbiastable2['rating'])**2)/len(totalbiastable2)"
   ]
  },
  {
   "cell_type": "code",
   "execution_count": 255,
   "metadata": {},
   "outputs": [
    {
     "data": {
      "text/plain": [
       "0.9132920702423193"
      ]
     },
     "execution_count": 255,
     "metadata": {},
     "output_type": "execute_result"
    }
   ],
   "source": [
    "MSE1  # 1st set end"
   ]
  },
  {
   "cell_type": "code",
   "execution_count": 256,
   "metadata": {},
   "outputs": [],
   "source": [
    "#2nd set\n",
    "totalreal=sum(traindata['rating'])\n",
    "totalbetai=sum([sum(x) for x in itemBiases.values()])\n",
    "totalbetau=sum([sum(x) for x in userBiases.values()])\n",
    "alpha2=(totalreal-(totalbetau+totalbetai))/N\n",
    "userBiases2 = defaultdict(list)\n",
    "sumItembiasPerUser=defaultdict(list)"
   ]
  },
  {
   "cell_type": "code",
   "execution_count": 257,
   "metadata": {},
   "outputs": [],
   "source": [
    "for d in users:\n",
    "    bi=[]\n",
    "    for i in itemsPerUser[d]:\n",
    "        b=itemBiases[i]\n",
    "        bi.append(b)\n",
    "        res=sum([sum(x) for x in bi])\n",
    "    sumItembiasPerUser[d].append(res)"
   ]
  },
  {
   "cell_type": "code",
   "execution_count": 258,
   "metadata": {},
   "outputs": [],
   "source": [
    "userBiases2 = defaultdict(list)\n",
    "for d in users:\n",
    "    ub= (sum(ratingPerUser[d])-(alpha2*len(ratingPerUser[d])+sum(sumItembiasPerUser[d]))) /(1+len(itemsPerUser[d]))\n",
    "    userBiases2[d].append(ub)"
   ]
  },
  {
   "cell_type": "code",
   "execution_count": 259,
   "metadata": {},
   "outputs": [],
   "source": [
    "sumUserbiasPerItem=defaultdict(list)\n",
    "itemBiases2 = defaultdict(list)\n",
    "for d in items:\n",
    "    bu=[]\n",
    "    for i in usersPerItem[d]:\n",
    "        b=userBiases2[i]\n",
    "        bu.append(b)\n",
    "        res=sum([sum(x) for x in bu])\n",
    "    sumUserbiasPerItem[d].append(res)\n",
    "for d in items:\n",
    "    ui= (sum(ratingPerItem[d])-(alpha2*len(ratingPerItem[d])+sum(sumUserbiasPerItem[d]))) /(1+len(usersPerItem[d]))\n",
    "    itemBiases2[d].append(ui)\n"
   ]
  },
  {
   "cell_type": "code",
   "execution_count": 260,
   "metadata": {},
   "outputs": [],
   "source": [
    "def prediction(user,item):\n",
    "    pred=sum(userBiases2[user])+sum(itemBiases2[item])+alpha2\n",
    "    return pred"
   ]
  },
  {
   "cell_type": "code",
   "execution_count": 261,
   "metadata": {},
   "outputs": [],
   "source": [
    "predictions=[]\n",
    "for i in range(len(traindat)):\n",
    "    predictions.append(prediction(traindata.userID[i],traindata.bookID[i]))"
   ]
  },
  {
   "cell_type": "code",
   "execution_count": 262,
   "metadata": {},
   "outputs": [],
   "source": [
    "labels = [d['rating'] for d in traindat]"
   ]
  },
  {
   "cell_type": "code",
   "execution_count": 263,
   "metadata": {},
   "outputs": [],
   "source": [
    "def MSE(predictions, labels):\n",
    "    differences = [(x-y)**2 for x,y in zip(predictions,labels)]\n",
    "    return sum(differences) / len(differences)"
   ]
  },
  {
   "cell_type": "code",
   "execution_count": 264,
   "metadata": {},
   "outputs": [
    {
     "data": {
      "text/plain": [
       "0.9048912326893028"
      ]
     },
     "execution_count": 264,
     "metadata": {},
     "output_type": "execute_result"
    }
   ],
   "source": [
    "MSE2=MSE(predictions,labels)\n",
    "MSE2  # 2nd set end MSEdecreased"
   ]
  },
  {
   "cell_type": "code",
   "execution_count": null,
   "metadata": {},
   "outputs": [],
   "source": [
    "# write a loop of the iteration until convergence:"
   ]
  },
  {
   "cell_type": "code",
   "execution_count": 356,
   "metadata": {},
   "outputs": [],
   "source": [
    "itemBiases_ite=copy.copy(itemBiases2)\n",
    "userBiases_ite=copy.copy(userBiases2)"
   ]
  },
  {
   "cell_type": "code",
   "execution_count": 357,
   "metadata": {},
   "outputs": [],
   "source": [
    "def predictor(alphai,userBiasesi,itemBiasesi,user,item):\n",
    "    pred=sum(userBiasesi[user])+sum(itemBiasesi[item])+alphai\n",
    "    return pred\n",
    "def MSE(predictions, labels):\n",
    "    differences = [(x-y)**2 for x,y in zip(predictions,labels)]\n",
    "    return sum(differences) / len(differences)"
   ]
  },
  {
   "cell_type": "code",
   "execution_count": 358,
   "metadata": {},
   "outputs": [
    {
     "name": "stdout",
     "output_type": "stream",
     "text": [
      "0.MSE:0.9044485644908073\n",
      "1.MSE:0.9042751694879395\n",
      "2.MSE:0.9041529137108026\n",
      "3.MSE:0.9041144750744964\n",
      "4.MSE:0.9040641106131933\n",
      "5.MSE:0.9040535453293465\n",
      "6.MSE:0.9040288617966485\n",
      "7.MSE:0.9040262314637156\n",
      "8.MSE:0.9040127855079181\n",
      "9.MSE:0.9040127307380699\n",
      "10.MSE:0.904004882642293\n",
      "11.MSE:0.9040056518319599\n",
      "12.MSE:0.9040008434340683\n",
      "13.MSE:0.9040017990408088\n",
      "14.MSE:0.9039987403483056\n",
      "15.MSE:0.9039996448445201\n",
      "16.MSE:0.9039976373335346\n",
      "17.MSE:0.9039984115121805\n",
      "18.MSE:0.9039970579558116\n",
      "19.MSE:0.9039976877587743\n"
     ]
    }
   ],
   "source": [
    "ttbi=[]\n",
    "ttbu=[]\n",
    "alplist=[]\n",
    "itemBiases_ite=[itemBiases_ite]\n",
    "userBiases_ite=[userBiases_ite]\n",
    "MSElist=[]\n",
    "predictlist=[]\n",
    "for i in range(20):   \n",
    "    totalbetai=sum([sum(x) for x in itemBiases_ite[i].values()])\n",
    "    ttbi.append(totalbetai)\n",
    "    totalbetau=sum([sum(x) for x in userBiases_ite[i].values()])\n",
    "    ttbu.append(totalbetau)\n",
    "    alpha=(totalreal-(ttbi[i]+ttbu[i]))/N\n",
    "    alplist.append(alpha)\n",
    "\n",
    "    sumItembiasPerUser_ite=defaultdict(list)\n",
    "    for d in users:\n",
    "        bi=[]\n",
    "        for j in itemsPerUser[d]:\n",
    "            b=itemBiases_ite[i][j]\n",
    "            bi.append(b)\n",
    "            res=sum([sum(x) for x in bi])\n",
    "        sumItembiasPerUser_ite[d].append(res)    \n",
    "        \n",
    "    userBiases_add=defaultdict(list)\n",
    "    for d in users:\n",
    "        ub= (sum(ratingPerUser[d])-(alplist[i]*len(ratingPerUser[d])+sum(sumItembiasPerUser_ite[d]))) /(1+len(itemsPerUser[d]))\n",
    "        userBiases_add[d].append(ub)\n",
    "    userBiases_ite.append(userBiases_add)\n",
    "\n",
    "    sumUserbiasPerItem_ite=defaultdict(list)\n",
    "    for d in items:\n",
    "        bu=[]\n",
    "        for j in usersPerItem[d]:\n",
    "            b=userBiases_ite[i][j]\n",
    "            bu.append(b)\n",
    "            res=sum([sum(x) for x in bu])\n",
    "        sumUserbiasPerItem_ite[d].append(res)\n",
    "\n",
    "    itemBiases_add=defaultdict(list)\n",
    "    for d in items:\n",
    "        ui= (sum(ratingPerItem[d])-(alplist[i]*len(ratingPerItem[d])+sum(sumUserbiasPerItem_ite[d]))) /(1+len(usersPerItem[d]))\n",
    "        itemBiases_add[d].append(ui)\n",
    "    itemBiases_ite.append(itemBiases_add)\n",
    "\n",
    "    predictions=[]\n",
    "    for l in range(len(traindat)):\n",
    "        m=i+1\n",
    "        predictions.append(predictor(alplist[i],userBiases_ite[m],itemBiases_ite[m],traindata.userID[l],traindata.bookID[l]))\n",
    "    predictlist.append(predictions)\n",
    "    MSEresult=MSE(predictlist[i],labels)\n",
    "    MSElist.append(MSEresult)\n",
    "    print(str(i)+\".MSE:\"+str(MSElist[i]))\n"
   ]
  },
  {
   "cell_type": "code",
   "execution_count": null,
   "metadata": {},
   "outputs": [],
   "source": [
    "# Including the first 2 sets of beta and alpha, the MSE on train dataset is stable after 20 times iteration. We use the 19th time's beta to predict validation data."
   ]
  },
  {
   "cell_type": "code",
   "execution_count": 359,
   "metadata": {},
   "outputs": [],
   "source": [
    "predictvali=[]\n",
    "for i in range(len(validata)):\n",
    "    predictvali.append(predictor(alplist[18],userBiases_ite[19],itemBiases_ite[19],validata.userID[i],validata.bookID[i]))\n",
    "valilabels=[d['rating'] for d in validat]\n",
    "MSEvali=MSE(predictvali,valilabels)"
   ]
  },
  {
   "cell_type": "code",
   "execution_count": 360,
   "metadata": {},
   "outputs": [
    {
     "name": "stdout",
     "output_type": "stream",
     "text": [
      "MSE on validation data is:1.1159847209829463\n"
     ]
    }
   ],
   "source": [
    "print(\"MSE on validation data is:\" + str(MSEvali))"
   ]
  },
  {
   "cell_type": "code",
   "execution_count": 417,
   "metadata": {},
   "outputs": [],
   "source": [
    "itemBiases_ite[19].pop('b21479253')"
   ]
  },
  {
   "cell_type": "code",
   "execution_count": 322,
   "metadata": {},
   "outputs": [],
   "source": [
    "# Q10:Report the user and book IDs that have the largest and smallest values of β (1 mark).\n"
   ]
  },
  {
   "cell_type": "code",
   "execution_count": 370,
   "metadata": {},
   "outputs": [],
   "source": [
    "itembetas= pd.DataFrame.from_dict(itemBiases_ite[19],orient='index').reset_index().rename({0:'itembias'},axis='columns')"
   ]
  },
  {
   "cell_type": "code",
   "execution_count": 371,
   "metadata": {},
   "outputs": [
    {
     "data": {
      "text/html": [
       "<div>\n",
       "<style scoped>\n",
       "    .dataframe tbody tr th:only-of-type {\n",
       "        vertical-align: middle;\n",
       "    }\n",
       "\n",
       "    .dataframe tbody tr th {\n",
       "        vertical-align: top;\n",
       "    }\n",
       "\n",
       "    .dataframe thead th {\n",
       "        text-align: right;\n",
       "    }\n",
       "</style>\n",
       "<table border=\"1\" class=\"dataframe\">\n",
       "  <thead>\n",
       "    <tr style=\"text-align: right;\">\n",
       "      <th></th>\n",
       "      <th>index</th>\n",
       "      <th>itembias</th>\n",
       "    </tr>\n",
       "  </thead>\n",
       "  <tbody>\n",
       "    <tr>\n",
       "      <td>5387</td>\n",
       "      <td>b84091840</td>\n",
       "      <td>-1.815699</td>\n",
       "    </tr>\n",
       "    <tr>\n",
       "      <td>4252</td>\n",
       "      <td>b84593887</td>\n",
       "      <td>-1.640213</td>\n",
       "    </tr>\n",
       "    <tr>\n",
       "      <td>1591</td>\n",
       "      <td>b31585810</td>\n",
       "      <td>-1.487344</td>\n",
       "    </tr>\n",
       "    <tr>\n",
       "      <td>6161</td>\n",
       "      <td>b58062803</td>\n",
       "      <td>-1.462104</td>\n",
       "    </tr>\n",
       "    <tr>\n",
       "      <td>6809</td>\n",
       "      <td>b21117330</td>\n",
       "      <td>-1.460714</td>\n",
       "    </tr>\n",
       "    <tr>\n",
       "      <td>...</td>\n",
       "      <td>...</td>\n",
       "      <td>...</td>\n",
       "    </tr>\n",
       "    <tr>\n",
       "      <td>6013</td>\n",
       "      <td>b43938572</td>\n",
       "      <td>0.959497</td>\n",
       "    </tr>\n",
       "    <tr>\n",
       "      <td>2900</td>\n",
       "      <td>b99517795</td>\n",
       "      <td>0.973519</td>\n",
       "    </tr>\n",
       "    <tr>\n",
       "      <td>976</td>\n",
       "      <td>b47216584</td>\n",
       "      <td>0.985815</td>\n",
       "    </tr>\n",
       "    <tr>\n",
       "      <td>357</td>\n",
       "      <td>b47166041</td>\n",
       "      <td>1.068403</td>\n",
       "    </tr>\n",
       "    <tr>\n",
       "      <td>6892</td>\n",
       "      <td>b19925500</td>\n",
       "      <td>1.366709</td>\n",
       "    </tr>\n",
       "  </tbody>\n",
       "</table>\n",
       "<p>7169 rows × 2 columns</p>\n",
       "</div>"
      ],
      "text/plain": [
       "          index  itembias\n",
       "5387  b84091840 -1.815699\n",
       "4252  b84593887 -1.640213\n",
       "1591  b31585810 -1.487344\n",
       "6161  b58062803 -1.462104\n",
       "6809  b21117330 -1.460714\n",
       "...         ...       ...\n",
       "6013  b43938572  0.959497\n",
       "2900  b99517795  0.973519\n",
       "976   b47216584  0.985815\n",
       "357   b47166041  1.068403\n",
       "6892  b19925500  1.366709\n",
       "\n",
       "[7169 rows x 2 columns]"
      ]
     },
     "execution_count": 371,
     "metadata": {},
     "output_type": "execute_result"
    }
   ],
   "source": [
    "itembetas.sort_values(by='itembias')"
   ]
  },
  {
   "cell_type": "code",
   "execution_count": 372,
   "metadata": {},
   "outputs": [
    {
     "name": "stdout",
     "output_type": "stream",
     "text": [
      "the book with largest beta is:b19925500 , the beta is 1.3667\n",
      "the book with smallest beta is:b84091840 , the beta is -1.81\n"
     ]
    }
   ],
   "source": [
    "print(\"the book with largest beta is:b19925500 , the beta is 1.3667\")\n",
    "print(\"the book with smallest beta is:b84091840 , the beta is -1.81\")"
   ]
  },
  {
   "cell_type": "code",
   "execution_count": 373,
   "metadata": {},
   "outputs": [],
   "source": [
    "largest_userid=max(userBiases_ite[19],key=userBiases_ite[19].get)\n",
    "smallest_userid=min(userBiases_ite[19],key=userBiases_ite[19].get)\n"
   ]
  },
  {
   "cell_type": "code",
   "execution_count": 374,
   "metadata": {},
   "outputs": [
    {
     "name": "stdout",
     "output_type": "stream",
     "text": [
      "the user with largest beta is:u32162993 the beta is 1.2968957367242602\n",
      "the user with smallest beta is:u48313610 the beta is -3.7737730310865554\n"
     ]
    }
   ],
   "source": [
    "print(\"the user with largest beta is:\"+largest_userid+\" the beta is \"+ str(userBiases_ite[19][largest_userid][0]))\n",
    "print(\"the user with smallest beta is:\"+smallest_userid+\" the beta is \"+ str(userBiases_ite[19][smallest_userid][0]))"
   ]
  },
  {
   "cell_type": "code",
   "execution_count": null,
   "metadata": {},
   "outputs": [],
   "source": [
    "# Q11 Find a better value of λ using your validation set. \n",
    "# Report the value you chose, its MSE"
   ]
  },
  {
   "cell_type": "code",
   "execution_count": 402,
   "metadata": {},
   "outputs": [],
   "source": [
    "def lambda_(lamb):\n",
    "    itemBiases_ite=copy.copy(itemBiases2)\n",
    "    userBiases_ite=copy.copy(userBiases2)\n",
    "    ttbi=[]\n",
    "    ttbu=[]\n",
    "    alplist=[]\n",
    "    itemBiases_ite=[itemBiases_ite]\n",
    "    userBiases_ite=[userBiases_ite]\n",
    "    MSElist=[]\n",
    "    predictlist=[]\n",
    "\n",
    "    for i in range(20):   \n",
    "        totalbetai=sum([sum(x) for x in itemBiases_ite[i].values()])\n",
    "        ttbi.append(totalbetai)\n",
    "        totalbetau=sum([sum(x) for x in userBiases_ite[i].values()])\n",
    "        ttbu.append(totalbetau)\n",
    "        alpha=(totalreal-(ttbi[i]+ttbu[i]))/N\n",
    "        alplist.append(alpha)\n",
    "\n",
    "        sumItembiasPerUser_ite=defaultdict(list)\n",
    "        for d in users:\n",
    "            bi=[]\n",
    "            for j in itemsPerUser[d]:\n",
    "                b=itemBiases_ite[i][j]\n",
    "                bi.append(b)\n",
    "                res=sum([sum(x) for x in bi])\n",
    "            sumItembiasPerUser_ite[d].append(res)    \n",
    "\n",
    "        userBiases_add=defaultdict(list)\n",
    "        for d in users:\n",
    "            ub= (sum(ratingPerUser[d])-(alplist[i]*len(ratingPerUser[d])+sum(sumItembiasPerUser_ite[d]))) /(lamb+len(itemsPerUser[d]))\n",
    "            userBiases_add[d].append(ub)\n",
    "        userBiases_ite.append(userBiases_add)\n",
    "\n",
    "        sumUserbiasPerItem_ite=defaultdict(list)\n",
    "        for d in items:\n",
    "            bu=[]\n",
    "            for j in usersPerItem[d]:\n",
    "                b=userBiases_ite[i][j]\n",
    "                bu.append(b)\n",
    "                res=sum([sum(x) for x in bu])\n",
    "            sumUserbiasPerItem_ite[d].append(res)\n",
    "\n",
    "        itemBiases_add=defaultdict(list)\n",
    "        for d in items:\n",
    "            ui= (sum(ratingPerItem[d])-(alplist[i]*len(ratingPerItem[d])+sum(sumUserbiasPerItem_ite[d]))) /(lamb+len(usersPerItem[d]))\n",
    "            itemBiases_add[d].append(ui)\n",
    "        itemBiases_ite.append(itemBiases_add)\n",
    "\n",
    "        predictions=[]\n",
    "        for l in range(len(validata)):\n",
    "            m=i+1\n",
    "            predictions.append(predictor(alplist[i],userBiases_ite[m],itemBiases_ite[m],validata.userID[l],validata.bookID[l]))\n",
    "        predictlist.append(predictions)\n",
    "        MSEresult=MSE(predictlist[i],valilabels)\n",
    "        MSElist.append(MSEresult)\n",
    "        #print(str(i)+\".MSE:\"+str(MSElist[i]))\n",
    "    return [lamb,min(MSElist),MSElist.index(min(MSElist))]\n"
   ]
  },
  {
   "cell_type": "code",
   "execution_count": 392,
   "metadata": {},
   "outputs": [],
   "source": [
    "resultq11=[]\n",
    "for l in range(7):\n",
    "    resultq11.append(lambda_(l))"
   ]
  },
  {
   "cell_type": "code",
   "execution_count": 396,
   "metadata": {},
   "outputs": [
    {
     "data": {
      "text/plain": [
       "[[0, 1.1286596342002426],\n",
       " [1, 1.1159840040266273],\n",
       " [2, 1.1098536293204382],\n",
       " [3, 1.1074512148093125],\n",
       " [4, 1.107545395997351],\n",
       " [5, 1.109304768243921],\n",
       " [6, 1.1121928753702082]]"
      ]
     },
     "execution_count": 396,
     "metadata": {},
     "output_type": "execute_result"
    }
   ],
   "source": [
    "resultq11"
   ]
  },
  {
   "cell_type": "code",
   "execution_count": null,
   "metadata": {},
   "outputs": [],
   "source": [
    "# The value I chose is 3, its MSE=1.107"
   ]
  },
  {
   "cell_type": "code",
   "execution_count": 403,
   "metadata": {},
   "outputs": [
    {
     "data": {
      "text/plain": [
       "[3, 1.1074512148093125, 0]"
      ]
     },
     "execution_count": 403,
     "metadata": {},
     "output_type": "execute_result"
    }
   ],
   "source": [
    "lambda_(3)"
   ]
  },
  {
   "cell_type": "code",
   "execution_count": 406,
   "metadata": {},
   "outputs": [],
   "source": [
    "#load data\n",
    "testdata=pd.read_csv(r'assignment1/pairs_Rating.txt',sep='-')\n",
    "testdata=testdata.rename(columns={'bookID,prediction':'bookID'})"
   ]
  },
  {
   "cell_type": "code",
   "execution_count": 407,
   "metadata": {},
   "outputs": [
    {
     "data": {
      "text/html": [
       "<div>\n",
       "<style scoped>\n",
       "    .dataframe tbody tr th:only-of-type {\n",
       "        vertical-align: middle;\n",
       "    }\n",
       "\n",
       "    .dataframe tbody tr th {\n",
       "        vertical-align: top;\n",
       "    }\n",
       "\n",
       "    .dataframe thead th {\n",
       "        text-align: right;\n",
       "    }\n",
       "</style>\n",
       "<table border=\"1\" class=\"dataframe\">\n",
       "  <thead>\n",
       "    <tr style=\"text-align: right;\">\n",
       "      <th></th>\n",
       "      <th>userID</th>\n",
       "      <th>bookID</th>\n",
       "    </tr>\n",
       "  </thead>\n",
       "  <tbody>\n",
       "    <tr>\n",
       "      <td>0</td>\n",
       "      <td>u39027358</td>\n",
       "      <td>b98920686</td>\n",
       "    </tr>\n",
       "    <tr>\n",
       "      <td>1</td>\n",
       "      <td>u50800253</td>\n",
       "      <td>b93497672</td>\n",
       "    </tr>\n",
       "    <tr>\n",
       "      <td>2</td>\n",
       "      <td>u07295538</td>\n",
       "      <td>b19850286</td>\n",
       "    </tr>\n",
       "    <tr>\n",
       "      <td>3</td>\n",
       "      <td>u41427072</td>\n",
       "      <td>b39758017</td>\n",
       "    </tr>\n",
       "    <tr>\n",
       "      <td>4</td>\n",
       "      <td>u89648987</td>\n",
       "      <td>b25118404</td>\n",
       "    </tr>\n",
       "    <tr>\n",
       "      <td>...</td>\n",
       "      <td>...</td>\n",
       "      <td>...</td>\n",
       "    </tr>\n",
       "    <tr>\n",
       "      <td>9995</td>\n",
       "      <td>u78346778</td>\n",
       "      <td>b73812430</td>\n",
       "    </tr>\n",
       "    <tr>\n",
       "      <td>9996</td>\n",
       "      <td>u71616100</td>\n",
       "      <td>b10876672</td>\n",
       "    </tr>\n",
       "    <tr>\n",
       "      <td>9997</td>\n",
       "      <td>u64609829</td>\n",
       "      <td>b62615825</td>\n",
       "    </tr>\n",
       "    <tr>\n",
       "      <td>9998</td>\n",
       "      <td>u28944466</td>\n",
       "      <td>b02268479</td>\n",
       "    </tr>\n",
       "    <tr>\n",
       "      <td>9999</td>\n",
       "      <td>u07954759</td>\n",
       "      <td>b23242339</td>\n",
       "    </tr>\n",
       "  </tbody>\n",
       "</table>\n",
       "<p>10000 rows × 2 columns</p>\n",
       "</div>"
      ],
      "text/plain": [
       "         userID     bookID\n",
       "0     u39027358  b98920686\n",
       "1     u50800253  b93497672\n",
       "2     u07295538  b19850286\n",
       "3     u41427072  b39758017\n",
       "4     u89648987  b25118404\n",
       "...         ...        ...\n",
       "9995  u78346778  b73812430\n",
       "9996  u71616100  b10876672\n",
       "9997  u64609829  b62615825\n",
       "9998  u28944466  b02268479\n",
       "9999  u07954759  b23242339\n",
       "\n",
       "[10000 rows x 2 columns]"
      ]
     },
     "execution_count": 407,
     "metadata": {},
     "output_type": "execute_result"
    }
   ],
   "source": [
    "testdata"
   ]
  },
  {
   "cell_type": "code",
   "execution_count": 408,
   "metadata": {},
   "outputs": [],
   "source": [
    "testrating=[]\n",
    "for l in range(len(testdata)):\n",
    "    m=i+1\n",
    "    testrating.append(predictor(alplist[0],userBiases_ite[1],itemBiases_ite[1],testdata.userID[l],testdata.bookID[l]))\n"
   ]
  },
  {
   "cell_type": "code",
   "execution_count": null,
   "metadata": {},
   "outputs": [],
   "source": []
  },
  {
   "cell_type": "code",
   "execution_count": 411,
   "metadata": {},
   "outputs": [
    {
     "data": {
      "text/html": [
       "<div>\n",
       "<style scoped>\n",
       "    .dataframe tbody tr th:only-of-type {\n",
       "        vertical-align: middle;\n",
       "    }\n",
       "\n",
       "    .dataframe tbody tr th {\n",
       "        vertical-align: top;\n",
       "    }\n",
       "\n",
       "    .dataframe thead th {\n",
       "        text-align: right;\n",
       "    }\n",
       "</style>\n",
       "<table border=\"1\" class=\"dataframe\">\n",
       "  <thead>\n",
       "    <tr style=\"text-align: right;\">\n",
       "      <th></th>\n",
       "      <th>userID</th>\n",
       "      <th>bookID</th>\n",
       "      <th>prediction</th>\n",
       "    </tr>\n",
       "  </thead>\n",
       "  <tbody>\n",
       "    <tr>\n",
       "      <td>0</td>\n",
       "      <td>u39027358</td>\n",
       "      <td>b98920686</td>\n",
       "      <td>4.160537</td>\n",
       "    </tr>\n",
       "    <tr>\n",
       "      <td>1</td>\n",
       "      <td>u50800253</td>\n",
       "      <td>b93497672</td>\n",
       "      <td>4.315733</td>\n",
       "    </tr>\n",
       "    <tr>\n",
       "      <td>2</td>\n",
       "      <td>u07295538</td>\n",
       "      <td>b19850286</td>\n",
       "      <td>3.989231</td>\n",
       "    </tr>\n",
       "    <tr>\n",
       "      <td>3</td>\n",
       "      <td>u41427072</td>\n",
       "      <td>b39758017</td>\n",
       "      <td>4.043435</td>\n",
       "    </tr>\n",
       "    <tr>\n",
       "      <td>4</td>\n",
       "      <td>u89648987</td>\n",
       "      <td>b25118404</td>\n",
       "      <td>4.585312</td>\n",
       "    </tr>\n",
       "    <tr>\n",
       "      <td>...</td>\n",
       "      <td>...</td>\n",
       "      <td>...</td>\n",
       "      <td>...</td>\n",
       "    </tr>\n",
       "    <tr>\n",
       "      <td>9995</td>\n",
       "      <td>u78346778</td>\n",
       "      <td>b73812430</td>\n",
       "      <td>4.592028</td>\n",
       "    </tr>\n",
       "    <tr>\n",
       "      <td>9996</td>\n",
       "      <td>u71616100</td>\n",
       "      <td>b10876672</td>\n",
       "      <td>4.288928</td>\n",
       "    </tr>\n",
       "    <tr>\n",
       "      <td>9997</td>\n",
       "      <td>u64609829</td>\n",
       "      <td>b62615825</td>\n",
       "      <td>3.958759</td>\n",
       "    </tr>\n",
       "    <tr>\n",
       "      <td>9998</td>\n",
       "      <td>u28944466</td>\n",
       "      <td>b02268479</td>\n",
       "      <td>4.829524</td>\n",
       "    </tr>\n",
       "    <tr>\n",
       "      <td>9999</td>\n",
       "      <td>u07954759</td>\n",
       "      <td>b23242339</td>\n",
       "      <td>3.443121</td>\n",
       "    </tr>\n",
       "  </tbody>\n",
       "</table>\n",
       "<p>10000 rows × 3 columns</p>\n",
       "</div>"
      ],
      "text/plain": [
       "         userID     bookID  prediction\n",
       "0     u39027358  b98920686    4.160537\n",
       "1     u50800253  b93497672    4.315733\n",
       "2     u07295538  b19850286    3.989231\n",
       "3     u41427072  b39758017    4.043435\n",
       "4     u89648987  b25118404    4.585312\n",
       "...         ...        ...         ...\n",
       "9995  u78346778  b73812430    4.592028\n",
       "9996  u71616100  b10876672    4.288928\n",
       "9997  u64609829  b62615825    3.958759\n",
       "9998  u28944466  b02268479    4.829524\n",
       "9999  u07954759  b23242339    3.443121\n",
       "\n",
       "[10000 rows x 3 columns]"
      ]
     },
     "execution_count": 411,
     "metadata": {},
     "output_type": "execute_result"
    }
   ],
   "source": [
    "testdata['prediction']=testrating\n",
    "testdata"
   ]
  },
  {
   "cell_type": "code",
   "execution_count": 414,
   "metadata": {},
   "outputs": [],
   "source": [
    "f=open(\"predictions_Rating.txt\", 'w')"
   ]
  },
  {
   "cell_type": "code",
   "execution_count": 415,
   "metadata": {},
   "outputs": [],
   "source": [
    "for index, (userID, bookID, prediction) in testdata.iterrows():\n",
    "    f.write('{}-{},{}\\n'.format(userID, bookID, float(prediction)))"
   ]
  },
  {
   "cell_type": "code",
   "execution_count": 416,
   "metadata": {},
   "outputs": [],
   "source": [
    "f.close()"
   ]
  },
  {
   "cell_type": "code",
   "execution_count": null,
   "metadata": {},
   "outputs": [],
   "source": [
    "#KAGGLE ID : aki"
   ]
  }
 ],
 "metadata": {
  "kernelspec": {
   "display_name": "Python 3",
   "language": "python",
   "name": "python3"
  },
  "language_info": {
   "codemirror_mode": {
    "name": "ipython",
    "version": 3
   },
   "file_extension": ".py",
   "mimetype": "text/x-python",
   "name": "python",
   "nbconvert_exporter": "python",
   "pygments_lexer": "ipython3",
   "version": "3.6.8"
  }
 },
 "nbformat": 4,
 "nbformat_minor": 4
}
